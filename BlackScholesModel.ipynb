{
 "cells": [
  {
   "cell_type": "code",
   "execution_count": 8,
   "metadata": {},
   "outputs": [],
   "source": [
    "import numpy as np\n",
    "from scipy.stats import norm \n",
    "import sympy as sy\n",
    "from math import sqrt, exp, log, pi"
   ]
  },
  {
   "cell_type": "code",
   "execution_count": 9,
   "metadata": {},
   "outputs": [
    {
     "name": "stdout",
     "output_type": "stream",
     "text": [
      "Stock Price: 317.94\n",
      "Strike Price: 322.50\n",
      "Days Until Expiration: 27.0\n",
      "Interest Rate: 0.01\n",
      "Dividend Yield: 0.103\n",
      "Option Type: Call\n",
      "Initial Call Price: 7.50\n"
     ]
    }
   ],
   "source": [
    "S = float(input(\"Stock Price: \"))\n",
    "K = float(input(\"Strike Price: \"))\n",
    "T = float(input(\"Days Until Expiration: \"))\n",
    "t = 365.0\n",
    "PercentYeartoExp = T/t\n",
    "r = float(input(\"Interest Rate: \"))\n",
    "div = float(input(\"Dividend Yield: \"))\n",
    "option = input(\"Option Type: \")\n",
    "c0 = float(input(\"Initial Call Price: \"))\n",
    "#S = 318.97\n",
    "#K = 317.5\n",
    "#PercentYeartoExp = 31.0/365.0\n",
    "#r = 0.01\n",
    "#div = 0.1"
   ]
  },
  {
   "cell_type": "code",
   "execution_count": 10,
   "metadata": {},
   "outputs": [],
   "source": [
    "def d(sigma, S, K, r, PercentYeartoExp):\n",
    "        d1 = 1/(sigma * sqrt(PercentYeartoExp)) * (log(S/K) + (r + sigma**2/2)*PercentYeartoExp)\n",
    "        d2 = d1 - sigma * sqrt(PercentYeartoExp)\n",
    "        return d1, d2"
   ]
  },
  {
   "cell_type": "code",
   "execution_count": 11,
   "metadata": {},
   "outputs": [],
   "source": [
    "def call_price(sigma, S, K, r, PercentYeartoExp, d1, d2):\n",
    "    c = norm.cdf(d1) * S - norm.cdf(d2) * K * exp(-r*PercentYeartoExp)\n",
    "    return c"
   ]
  },
  {
   "cell_type": "code",
   "execution_count": 12,
   "metadata": {},
   "outputs": [],
   "source": [
    "#Tolerances\n",
    "tol = 1e-3\n",
    "epsilon = 1 #percent change from one iteration to other\n",
    "count = 0\n",
    "max_iter = 1000\n",
    "vol = 0.50"
   ]
  },
  {
   "cell_type": "code",
   "execution_count": 13,
   "metadata": {},
   "outputs": [
    {
     "name": "stdout",
     "output_type": "stream",
     "text": [
      "Break on count\n",
      "Sigma:  0.27444670531230503\n"
     ]
    }
   ],
   "source": [
    "while epsilon > tol:\n",
    "    count += 1\n",
    "    if count >= max_iter:\n",
    "        print('Break on count')\n",
    "        break;\n",
    "        \n",
    "orig_vol = vol\n",
    "d1, d2 = d(vol,S,K,r,PercentYeartoExp)\n",
    "function_value = call_price(vol,S,K,r,PercentYeartoExp, d1, d2) -c0\n",
    "vega = S * norm.pdf(d1)*sqrt(PercentYeartoExp)\n",
    "vol = -function_value/vega + vol\n",
    "epsilon = abs((vol - orig_vol)/ orig_vol)\n",
    "sigma = vol\n",
    "print('Sigma: ', vol)\n"
   ]
  },
  {
   "cell_type": "code",
   "execution_count": 14,
   "metadata": {},
   "outputs": [
    {
     "name": "stdout",
     "output_type": "stream",
     "text": [
      "6.503940001289621\n"
     ]
    }
   ],
   "source": [
    "d1 = (np.log(S / K) + (r - div +  0.5 * sigma ** 2) * PercentYeartoExp) / (sigma * np.sqrt(PercentYeartoExp))\n",
    "d2 = (np.log(S / K) + (r - div - 0.5 * sigma ** 2) * PercentYeartoExp) / (sigma * np.sqrt(PercentYeartoExp))\n",
    "if option == \"Call\":\n",
    "    call = (S *np.exp(-div*PercentYeartoExp)*norm.cdf(d1,0.0,1.0) - K*np.exp(-r*PercentYeartoExp)*norm.cdf(d2,0.0,1.0))\n",
    "    print(call)\n",
    "if option == \"Put\":\n",
    "    put = K*np.exp(-r*PercentYeartoExp)*norm.cdf(-d2,0.0,1.0) - S*np.exp(-div*PercentYeartoExp)*norm.cdf(-d1,0.0,1.0)\n",
    "    print(put)"
   ]
  },
  {
   "cell_type": "code",
   "execution_count": null,
   "metadata": {},
   "outputs": [],
   "source": []
  },
  {
   "cell_type": "code",
   "execution_count": null,
   "metadata": {},
   "outputs": [],
   "source": []
  }
 ],
 "metadata": {
  "kernelspec": {
   "display_name": "Python 3",
   "language": "python",
   "name": "python3"
  },
  "language_info": {
   "codemirror_mode": {
    "name": "ipython",
    "version": 3
   },
   "file_extension": ".py",
   "mimetype": "text/x-python",
   "name": "python",
   "nbconvert_exporter": "python",
   "pygments_lexer": "ipython3",
   "version": "3.6.5"
  }
 },
 "nbformat": 4,
 "nbformat_minor": 2
}
